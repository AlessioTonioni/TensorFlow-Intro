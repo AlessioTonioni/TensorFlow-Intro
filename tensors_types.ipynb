{
 "cells": [
  {
   "cell_type": "markdown",
   "metadata": {},
   "source": [
    "## Variables, constant and placeholder\n",
    "We are going to create a variable, a constant and a placeholder containing a 2X2 identyty matrix."
   ]
  },
  {
   "cell_type": "code",
   "execution_count": null,
   "metadata": {
    "collapsed": false
   },
   "outputs": [],
   "source": [
    "import tensorflow as tf\n",
    "import numpy as np\n",
    "\n",
    "a_const = tf.constant([[1,0],[0,1]], name=\"a_const\")\n",
    "a_variable = tf.Variable([[1,0],[0,1]],trainable=False, name=\"a_var\")\n",
    "a_placeholder = tf.placeholder(tf.int64,shape=(2,2), name=\"a_placeholder\")\n",
    "with tf.variable_scope('my_first_scope') as scope:\n",
    "    a_scoped_variable = tf.Variable([[1,0],[0,1]],trainable=False, name=\"a_var\")\n",
    "\n",
    "print(a_const)\n",
    "print(a_variable)\n",
    "print(a_placeholder)\n",
    "print(a_scoped_variable)"
   ]
  },
  {
   "cell_type": "markdown",
   "metadata": {},
   "source": [
    "Let's now try to evaluate them inside a session:\n",
    "### Constant"
   ]
  },
  {
   "cell_type": "code",
   "execution_count": null,
   "metadata": {
    "collapsed": false
   },
   "outputs": [],
   "source": [
    "with tf.Session() as sess:\n",
    "    a_value = sess.run(a_const)\n",
    "    print(a_value)"
   ]
  },
  {
   "cell_type": "markdown",
   "metadata": {},
   "source": [
    "### Variable"
   ]
  },
  {
   "cell_type": "code",
   "execution_count": null,
   "metadata": {
    "collapsed": false,
    "scrolled": true
   },
   "outputs": [],
   "source": [
    "with tf.Session() as sess:\n",
    "    a_value = sess.run(a_variable)"
   ]
  },
  {
   "cell_type": "markdown",
   "metadata": {},
   "source": [
    "Initialization is missing!!!! \n",
    "Proper way:"
   ]
  },
  {
   "cell_type": "code",
   "execution_count": null,
   "metadata": {
    "collapsed": false
   },
   "outputs": [],
   "source": [
    "with tf.Session() as sess:\n",
    "    sess.run(tf.global_variables_initializer())\n",
    "    a_value = sess.run(a_variable)\n",
    "    print(a_value)\n",
    "    a_value = sess.run(a_scoped_variable)\n",
    "    print(a_value)"
   ]
  },
  {
   "cell_type": "markdown",
   "metadata": {},
   "source": [
    "### Placeholder"
   ]
  },
  {
   "cell_type": "code",
   "execution_count": null,
   "metadata": {
    "collapsed": false
   },
   "outputs": [],
   "source": [
    "with tf.Session() as sess:\n",
    "    a_value = sess.run(a_placeholder, feed_dict={a_placeholder:[[1,0],[0,1]]})\n",
    "    print(a_value)"
   ]
  }
 ],
 "metadata": {
  "kernelspec": {
   "display_name": "Python 3",
   "language": "python",
   "name": "python3"
  },
  "language_info": {
   "codemirror_mode": {
    "name": "ipython",
    "version": 3
   },
   "file_extension": ".py",
   "mimetype": "text/x-python",
   "name": "python",
   "nbconvert_exporter": "python",
   "pygments_lexer": "ipython3",
   "version": "3.5.2"
  }
 },
 "nbformat": 4,
 "nbformat_minor": 1
}
