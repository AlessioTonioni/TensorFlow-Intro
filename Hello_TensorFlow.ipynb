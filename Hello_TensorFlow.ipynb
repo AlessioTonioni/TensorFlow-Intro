{
 "cells": [
  {
   "cell_type": "markdown",
   "metadata": {},
   "source": [
    "# Algebraic Operations, graph and session\n",
    "\n",
    "**Step 1**: import all the necesary packages"
   ]
  },
  {
   "cell_type": "code",
   "execution_count": null,
   "metadata": {
    "collapsed": false
   },
   "outputs": [],
   "source": [
    "import numpy as np\n",
    "import tensorflow as tf\n",
    "print(\"Package Loaded\")"
   ]
  },
  {
   "cell_type": "markdown",
   "metadata": {},
   "source": [
    "**step 2:** Create two tensorflow constants"
   ]
  },
  {
   "cell_type": "code",
   "execution_count": null,
   "metadata": {
    "collapsed": false
   },
   "outputs": [],
   "source": [
    "a = tf.constant(1)\n",
    "b = tf.constant(1)\n",
    "c = tf.constant([[1,1],[1,1]])\n",
    "\n",
    "print('a: {}'.format(a))\n",
    "print('b: {}'.format(b))\n",
    "print('c: {}'.format(c))"
   ]
  },
  {
   "cell_type": "markdown",
   "metadata": {},
   "source": [
    "**step 3:** Create some operations"
   ]
  },
  {
   "cell_type": "code",
   "execution_count": null,
   "metadata": {
    "collapsed": false
   },
   "outputs": [],
   "source": [
    "op_1 = tf.add(a,b)\n",
    "op_2 = tf.add(a,c) #a is added to each element of c --< numpy like broadcsting\n",
    "\n",
    "print('op1: {}'.format(op_1))\n",
    "print('op2: {}'.format(op_2))"
   ]
  },
  {
   "cell_type": "markdown",
   "metadata": {},
   "source": [
    "**step 4:** create a tensorflow session and evaluate tensors and ops"
   ]
  },
  {
   "cell_type": "code",
   "execution_count": null,
   "metadata": {
    "collapsed": false
   },
   "outputs": [],
   "source": [
    "with tf.Session() as sess:\n",
    "    a_val,b_val,c_val = sess.run([a,b,c])\n",
    "    print('VARIABLES EVALUATED: ')\n",
    "    print('a_val: Type: {} || Value: {}'.format(type(a_val),a_val))\n",
    "    print('b_val: Type: {} || Value: {}'.format(type(b_val),b_val))\n",
    "    print('c_val: Type: {} || Value: {}'.format(type(c_val),c_val))\n",
    "    \n",
    "    op_1_val, op_2_val = sess.run([op_1,op_2])\n",
    "    print('OPERATIONS RESULT: ')\n",
    "    print('op_1 = {}'.format(op_1_val))\n",
    "    print('op_2 = {}'.format(op_2_val))\n",
    "    \n"
   ]
  }
 ],
 "metadata": {
  "kernelspec": {
   "display_name": "Python 3",
   "language": "python",
   "name": "python3"
  },
  "language_info": {
   "codemirror_mode": {
    "name": "ipython",
    "version": 3
   },
   "file_extension": ".py",
   "mimetype": "text/x-python",
   "name": "python",
   "nbconvert_exporter": "python",
   "pygments_lexer": "ipython3",
   "version": "3.5.2"
  }
 },
 "nbformat": 4,
 "nbformat_minor": 1
}
