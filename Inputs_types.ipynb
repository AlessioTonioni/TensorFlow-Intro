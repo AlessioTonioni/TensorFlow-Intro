{
 "cells": [
  {
   "cell_type": "markdown",
   "metadata": {},
   "source": [
    "## Feeding"
   ]
  },
  {
   "cell_type": "code",
   "execution_count": null,
   "metadata": {},
   "outputs": [],
   "source": [
    "import tensorflow as tf\n",
    "from PIL import Image\n",
    "import numpy as np\n",
    "import matplotlib.pyplot as plt\n",
    "import os\n",
    "\n",
    "%matplotlib inline\n",
    "\n",
    "images = tf.placeholder(tf.float32, shape=(None,None,3))\n",
    "\n",
    "data_dir = os.getcwd()+'/data/images'\n",
    "image_files = [os.path.join(data_dir,f) for f in os.listdir(data_dir) if f.endswith('.jpg')]\n",
    "\n",
    "with tf.Session() as sess:\n",
    "    numpy_image = np.array(Image.open(image_files[0]))\n",
    "    tf_eval_image = sess.run(images,feed_dict={images:numpy_image})\n",
    "    \n",
    "    plt.title('original')\n",
    "    plt.imshow(numpy_image.astype(np.uint8))\n",
    "    plt.show()\n",
    "    \n",
    "    plt.title('feeded')\n",
    "    plt.imshow(tf_eval_image.astype(np.uint8))\n",
    "    \n",
    "    plt.show()"
   ]
  },
  {
   "cell_type": "markdown",
   "metadata": {},
   "source": [
    "## File reading ops\n",
    "Image readed directly from files using tensorflow symbolyc ops"
   ]
  },
  {
   "cell_type": "code",
   "execution_count": null,
   "metadata": {
    "scrolled": true
   },
   "outputs": [],
   "source": [
    "image_files = [os.path.join(data_dir,f) for f in os.listdir(data_dir) if f.endswith('.jpg')]\n",
    "\n",
    "#create a queue to hold the list of filename to be readed\n",
    "filename_queue = tf.train.string_input_producer(image_files, shuffle=False)\n",
    "#create a symbolic op to read the file from disk as sequence of bits\n",
    "reader = tf.WholeFileReader()\n",
    "_,file_content = reader.read(filename_queue)\n",
    "#create a symbolic op to decode data \n",
    "image = tf.image.decode_image(file_content)\n",
    "\n",
    "with tf.Session() as sess:\n",
    "    #start input reader threads\n",
    "    coord = tf.train.Coordinator()\n",
    "    threads = tf.train.start_queue_runners(sess=sess, coord=coord)\n",
    "    \n",
    "    #initialize everything\n",
    "    sess.run(tf.global_variables_initializer())\n",
    "    \n",
    "    #eval image op\n",
    "    tf_eval_image = sess.run(image)\n",
    "    plt.imshow(tf_eval_image.astype(np.uint8))\n",
    "    \n",
    "    #stop input threads\n",
    "    coord.request_stop()\n"
   ]
  },
  {
   "cell_type": "markdown",
   "metadata": {},
   "source": [
    "## Binary files\n",
    "Fixed bits length for each sample inside binary files (e.g. cifar10)"
   ]
  },
  {
   "cell_type": "code",
   "execution_count": null,
   "metadata": {},
   "outputs": [],
   "source": [
    "WIDTH=32\n",
    "HEIGHT=32\n",
    "DEPTH=3\n",
    "LABEL_BYTE=1\n",
    "\n",
    "#dimension of bytes to be readed\n",
    "label_bytes = LABEL_BYTE  \n",
    "image_bytes = HEIGHT * WIDTH * DEPTH\n",
    "record_bytes = label_bytes + image_bytes\n",
    "\n",
    "#input filenames \n",
    "files = ['data/data_batch_1.bin']\n",
    "filename_queue = tf.train.string_input_producer(files, shuffle=False)\n",
    "\n",
    "#fixed length record leader\n",
    "reader = tf.FixedLengthRecordReader(record_bytes=record_bytes)\n",
    "key, value = reader.read(filename_queue)\n",
    "\n",
    "#convert bytes to uint with 8 bit precision\n",
    "record_bytes = tf.decode_raw(value, tf.uint8)\n",
    "\n",
    "#first byte encodes the label\n",
    "label = tf.cast(tf.strided_slice(record_bytes, [0], [label_bytes]), tf.int32)\n",
    "label.set_shape([1])\n",
    "\n",
    "#the others encode the images\n",
    "depth_major = tf.reshape( tf.strided_slice(record_bytes, [label_bytes],[label_bytes + image_bytes]), [DEPTH, HEIGHT, WIDTH])\n",
    "# Convert from [depth, height, width] to [height, width, depth].\n",
    "uint8image = tf.transpose(depth_major, [1, 2, 0])\n",
    "image = tf.cast(uint8image, tf.float32)\n",
    "\n",
    "with tf.Session() as sess:\n",
    "    #start input reader threads\n",
    "    coord = tf.train.Coordinator()\n",
    "    threads = tf.train.start_queue_runners(sess=sess, coord=coord)\n",
    "    \n",
    "    #initialize everything\n",
    "    sess.run(tf.global_variables_initializer())\n",
    "    \n",
    "    #eval image op\n",
    "    tf_eval_image = sess.run(image)\n",
    "    plt.imshow(tf_eval_image.astype(np.uint8))\n",
    " \n",
    "    #stop input threads\n",
    "    coord.request_stop()"
   ]
  },
  {
   "cell_type": "markdown",
   "metadata": {},
   "source": [
    "## tfrecords\n",
    "Like binary files but with structure"
   ]
  },
  {
   "cell_type": "code",
   "execution_count": null,
   "metadata": {},
   "outputs": [],
   "source": [
    "IMAGE_SHAPE = [112,112,3]\n",
    "\n",
    "#input filenames \n",
    "files = ['data/faces/data-00.tfrecords']\n",
    "filename_queue = tf.train.string_input_producer(files, shuffle=False)\n",
    "\n",
    "\n",
    "#symbolic reader to read one example at a time\n",
    "reader = tf.TFRecordReader()\n",
    "_, serialized_example = reader.read(filename_queue)\n",
    "features = tf.parse_single_example(\n",
    "    serialized_example,\n",
    "    # Defaults are not specified since both keys are required.\n",
    "    features={\n",
    "        'image_raw': tf.FixedLenFeature([], tf.string),\n",
    "        'label': tf.FixedLenFeature([], tf.int64),\n",
    "    }\n",
    ")\n",
    "\n",
    "image = tf.image.decode_jpeg(features['image_raw'], channels=3)\n",
    "image.set_shape(IMAGE_SHAPE)\n",
    "label = features['label']\n",
    "\n",
    "with tf.Session() as sess:\n",
    "    #start input reader threads\n",
    "    coord = tf.train.Coordinator()\n",
    "    threads = tf.train.start_queue_runners(sess=sess, coord=coord)\n",
    "    \n",
    "    #initialize everything\n",
    "    sess.run(tf.global_variables_initializer())\n",
    "    \n",
    "    #eval image op\n",
    "    tf_eval_image = sess.run(image)\n",
    "    plt.imshow(tf_eval_image)\n",
    "    \n",
    "    #stop input threads\n",
    "    coord.request_stop()"
   ]
  },
  {
   "cell_type": "markdown",
   "metadata": {},
   "source": [
    "## Dataset API\n",
    "\n",
    "New input method for tensorflow"
   ]
  },
  {
   "cell_type": "code",
   "execution_count": null,
   "metadata": {},
   "outputs": [],
   "source": [
    "# Reads an image from a file, decodes it into a dense tensor, and resizes it\n",
    "# to a fixed shape.\n",
    "def _parse_function(filename):\n",
    "    image_string = tf.read_file(filename)\n",
    "    image_decoded = tf.image.decode_image(image_string)\n",
    "    image_decoded.set_shape([None,None,3])\n",
    "    return image_decoded\n",
    "\n",
    "image_tensor=tf.constant([os.path.join(data_dir,f) for f in os.listdir(data_dir) if f.endswith('.jpg')])\n",
    "\n",
    "#create the dataset\n",
    "dataset = tf.contrib.data.Dataset.from_tensor_slices(image_tensor)\n",
    "\n",
    "#apply parse function operation to each element in image_files and get an image batch\n",
    "dataset = dataset.map(_parse_function)\n",
    "\n",
    "#get iterator and image\n",
    "iterator = dataset.make_one_shot_iterator()\n",
    "image = iterator.get_next()\n",
    "\n",
    "with tf.Session() as sess:\n",
    "    #initialize everything\n",
    "    sess.run(tf.global_variables_initializer())\n",
    "    \n",
    "    #eval image op\n",
    "    tf_eval_image = sess.run(image)\n",
    "    plt.imshow(tf_eval_image)"
   ]
  }
 ],
 "metadata": {
  "kernelspec": {
   "display_name": "Python 3",
   "language": "python",
   "name": "python3"
  },
  "language_info": {
   "codemirror_mode": {
    "name": "ipython",
    "version": 3
   },
   "file_extension": ".py",
   "mimetype": "text/x-python",
   "name": "python",
   "nbconvert_exporter": "python",
   "pygments_lexer": "ipython3",
   "version": "3.5.2"
  }
 },
 "nbformat": 4,
 "nbformat_minor": 1
}
